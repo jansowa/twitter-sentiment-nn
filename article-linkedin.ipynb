{
 "cells": [
  {
   "cell_type": "markdown",
   "id": "886c8266",
   "metadata": {},
   "source": [
    "# Twitter US Airline Sentiment with Keras\n",
    "\n",
    "## 1. Domain introduction\n",
    "[Twitter US Airline Sentiment](https://www.kaggle.com/datasets/crowdflower/twitter-airline-sentiment) is a popular NLP dataset on Kaggle. It contains Twitter reviews of the US airlines. Each one has a sentiment attached to it - positive, neutral or negative. \n",
    "\n",
    "In this article, I will present my approach to guessing the sentiment of a particular opinion."
   ]
  },
  {
   "cell_type": "markdown",
   "id": "e6b4a27b",
   "metadata": {},
   "source": [
    "## 2. Data description and visualization\n",
    "\n",
    "Let's check first few rows of the raw data: "
   ]
  },
  {
   "cell_type": "code",
   "execution_count": 1,
   "id": "05d959ae",
   "metadata": {},
   "outputs": [
    {
     "data": {
      "text/html": [
       "<div>\n",
       "<style scoped>\n",
       "    .dataframe tbody tr th:only-of-type {\n",
       "        vertical-align: middle;\n",
       "    }\n",
       "\n",
       "    .dataframe tbody tr th {\n",
       "        vertical-align: top;\n",
       "    }\n",
       "\n",
       "    .dataframe thead th {\n",
       "        text-align: right;\n",
       "    }\n",
       "</style>\n",
       "<table border=\"1\" class=\"dataframe\">\n",
       "  <thead>\n",
       "    <tr style=\"text-align: right;\">\n",
       "      <th></th>\n",
       "      <th>tweet_id</th>\n",
       "      <th>airline_sentiment</th>\n",
       "      <th>airline_sentiment_confidence</th>\n",
       "      <th>negativereason</th>\n",
       "      <th>negativereason_confidence</th>\n",
       "      <th>airline</th>\n",
       "      <th>airline_sentiment_gold</th>\n",
       "      <th>name</th>\n",
       "      <th>negativereason_gold</th>\n",
       "      <th>retweet_count</th>\n",
       "      <th>text</th>\n",
       "      <th>tweet_coord</th>\n",
       "      <th>tweet_created</th>\n",
       "      <th>tweet_location</th>\n",
       "      <th>user_timezone</th>\n",
       "    </tr>\n",
       "  </thead>\n",
       "  <tbody>\n",
       "    <tr>\n",
       "      <th>0</th>\n",
       "      <td>570306133677760513</td>\n",
       "      <td>neutral</td>\n",
       "      <td>1.0000</td>\n",
       "      <td>NaN</td>\n",
       "      <td>NaN</td>\n",
       "      <td>Virgin America</td>\n",
       "      <td>NaN</td>\n",
       "      <td>cairdin</td>\n",
       "      <td>NaN</td>\n",
       "      <td>0</td>\n",
       "      <td>@VirginAmerica What @dhepburn said.</td>\n",
       "      <td>NaN</td>\n",
       "      <td>2015-02-24 11:35:52 -0800</td>\n",
       "      <td>NaN</td>\n",
       "      <td>Eastern Time (US &amp; Canada)</td>\n",
       "    </tr>\n",
       "    <tr>\n",
       "      <th>1</th>\n",
       "      <td>570301130888122368</td>\n",
       "      <td>positive</td>\n",
       "      <td>0.3486</td>\n",
       "      <td>NaN</td>\n",
       "      <td>0.0000</td>\n",
       "      <td>Virgin America</td>\n",
       "      <td>NaN</td>\n",
       "      <td>jnardino</td>\n",
       "      <td>NaN</td>\n",
       "      <td>0</td>\n",
       "      <td>@VirginAmerica plus you've added commercials t...</td>\n",
       "      <td>NaN</td>\n",
       "      <td>2015-02-24 11:15:59 -0800</td>\n",
       "      <td>NaN</td>\n",
       "      <td>Pacific Time (US &amp; Canada)</td>\n",
       "    </tr>\n",
       "    <tr>\n",
       "      <th>2</th>\n",
       "      <td>570301083672813571</td>\n",
       "      <td>neutral</td>\n",
       "      <td>0.6837</td>\n",
       "      <td>NaN</td>\n",
       "      <td>NaN</td>\n",
       "      <td>Virgin America</td>\n",
       "      <td>NaN</td>\n",
       "      <td>yvonnalynn</td>\n",
       "      <td>NaN</td>\n",
       "      <td>0</td>\n",
       "      <td>@VirginAmerica I didn't today... Must mean I n...</td>\n",
       "      <td>NaN</td>\n",
       "      <td>2015-02-24 11:15:48 -0800</td>\n",
       "      <td>Lets Play</td>\n",
       "      <td>Central Time (US &amp; Canada)</td>\n",
       "    </tr>\n",
       "    <tr>\n",
       "      <th>3</th>\n",
       "      <td>570301031407624196</td>\n",
       "      <td>negative</td>\n",
       "      <td>1.0000</td>\n",
       "      <td>Bad Flight</td>\n",
       "      <td>0.7033</td>\n",
       "      <td>Virgin America</td>\n",
       "      <td>NaN</td>\n",
       "      <td>jnardino</td>\n",
       "      <td>NaN</td>\n",
       "      <td>0</td>\n",
       "      <td>@VirginAmerica it's really aggressive to blast...</td>\n",
       "      <td>NaN</td>\n",
       "      <td>2015-02-24 11:15:36 -0800</td>\n",
       "      <td>NaN</td>\n",
       "      <td>Pacific Time (US &amp; Canada)</td>\n",
       "    </tr>\n",
       "    <tr>\n",
       "      <th>4</th>\n",
       "      <td>570300817074462722</td>\n",
       "      <td>negative</td>\n",
       "      <td>1.0000</td>\n",
       "      <td>Can't Tell</td>\n",
       "      <td>1.0000</td>\n",
       "      <td>Virgin America</td>\n",
       "      <td>NaN</td>\n",
       "      <td>jnardino</td>\n",
       "      <td>NaN</td>\n",
       "      <td>0</td>\n",
       "      <td>@VirginAmerica and it's a really big bad thing...</td>\n",
       "      <td>NaN</td>\n",
       "      <td>2015-02-24 11:14:45 -0800</td>\n",
       "      <td>NaN</td>\n",
       "      <td>Pacific Time (US &amp; Canada)</td>\n",
       "    </tr>\n",
       "  </tbody>\n",
       "</table>\n",
       "</div>"
      ],
      "text/plain": [
       "             tweet_id airline_sentiment  airline_sentiment_confidence  \\\n",
       "0  570306133677760513           neutral                        1.0000   \n",
       "1  570301130888122368          positive                        0.3486   \n",
       "2  570301083672813571           neutral                        0.6837   \n",
       "3  570301031407624196          negative                        1.0000   \n",
       "4  570300817074462722          negative                        1.0000   \n",
       "\n",
       "  negativereason  negativereason_confidence         airline  \\\n",
       "0            NaN                        NaN  Virgin America   \n",
       "1            NaN                     0.0000  Virgin America   \n",
       "2            NaN                        NaN  Virgin America   \n",
       "3     Bad Flight                     0.7033  Virgin America   \n",
       "4     Can't Tell                     1.0000  Virgin America   \n",
       "\n",
       "  airline_sentiment_gold        name negativereason_gold  retweet_count  \\\n",
       "0                    NaN     cairdin                 NaN              0   \n",
       "1                    NaN    jnardino                 NaN              0   \n",
       "2                    NaN  yvonnalynn                 NaN              0   \n",
       "3                    NaN    jnardino                 NaN              0   \n",
       "4                    NaN    jnardino                 NaN              0   \n",
       "\n",
       "                                                text tweet_coord  \\\n",
       "0                @VirginAmerica What @dhepburn said.         NaN   \n",
       "1  @VirginAmerica plus you've added commercials t...         NaN   \n",
       "2  @VirginAmerica I didn't today... Must mean I n...         NaN   \n",
       "3  @VirginAmerica it's really aggressive to blast...         NaN   \n",
       "4  @VirginAmerica and it's a really big bad thing...         NaN   \n",
       "\n",
       "               tweet_created tweet_location               user_timezone  \n",
       "0  2015-02-24 11:35:52 -0800            NaN  Eastern Time (US & Canada)  \n",
       "1  2015-02-24 11:15:59 -0800            NaN  Pacific Time (US & Canada)  \n",
       "2  2015-02-24 11:15:48 -0800      Lets Play  Central Time (US & Canada)  \n",
       "3  2015-02-24 11:15:36 -0800            NaN  Pacific Time (US & Canada)  \n",
       "4  2015-02-24 11:14:45 -0800            NaN  Pacific Time (US & Canada)  "
      ]
     },
     "execution_count": 1,
     "metadata": {},
     "output_type": "execute_result"
    }
   ],
   "source": [
    "import pandas as pd\n",
    "import numpy as np\n",
    "\n",
    "df = pd.read_csv(\"Tweets.csv\")\n",
    "\n",
    "df.head()"
   ]
  },
  {
   "cell_type": "markdown",
   "id": "f21ae512",
   "metadata": {},
   "source": [
    "My goal is to determine sentiment based only on the Tweet itself, so I will remove additional data, expand the columns width and show more rows:"
   ]
  },
  {
   "cell_type": "code",
   "execution_count": 2,
   "id": "cb05a033",
   "metadata": {},
   "outputs": [
    {
     "data": {
      "text/html": [
       "<div>\n",
       "<style scoped>\n",
       "    .dataframe tbody tr th:only-of-type {\n",
       "        vertical-align: middle;\n",
       "    }\n",
       "\n",
       "    .dataframe tbody tr th {\n",
       "        vertical-align: top;\n",
       "    }\n",
       "\n",
       "    .dataframe thead th {\n",
       "        text-align: right;\n",
       "    }\n",
       "</style>\n",
       "<table border=\"1\" class=\"dataframe\">\n",
       "  <thead>\n",
       "    <tr style=\"text-align: right;\">\n",
       "      <th></th>\n",
       "      <th>text</th>\n",
       "      <th>airline_sentiment</th>\n",
       "    </tr>\n",
       "  </thead>\n",
       "  <tbody>\n",
       "    <tr>\n",
       "      <th>0</th>\n",
       "      <td>@VirginAmerica What @dhepburn said.</td>\n",
       "      <td>neutral</td>\n",
       "    </tr>\n",
       "    <tr>\n",
       "      <th>1</th>\n",
       "      <td>@VirginAmerica plus you've added commercials to the experience... tacky.</td>\n",
       "      <td>positive</td>\n",
       "    </tr>\n",
       "    <tr>\n",
       "      <th>2</th>\n",
       "      <td>@VirginAmerica I didn't today... Must mean I need to take another trip!</td>\n",
       "      <td>neutral</td>\n",
       "    </tr>\n",
       "    <tr>\n",
       "      <th>3</th>\n",
       "      <td>@VirginAmerica it's really aggressive to blast obnoxious \"entertainment\" in your guests' faces &amp;amp; they have little recourse</td>\n",
       "      <td>negative</td>\n",
       "    </tr>\n",
       "    <tr>\n",
       "      <th>4</th>\n",
       "      <td>@VirginAmerica and it's a really big bad thing about it</td>\n",
       "      <td>negative</td>\n",
       "    </tr>\n",
       "    <tr>\n",
       "      <th>5</th>\n",
       "      <td>@VirginAmerica seriously would pay $30 a flight for seats that didn't have this playing.\\nit's really the only bad thing about flying VA</td>\n",
       "      <td>negative</td>\n",
       "    </tr>\n",
       "    <tr>\n",
       "      <th>6</th>\n",
       "      <td>@VirginAmerica yes, nearly every time I fly VX this “ear worm” won’t go away :)</td>\n",
       "      <td>positive</td>\n",
       "    </tr>\n",
       "    <tr>\n",
       "      <th>7</th>\n",
       "      <td>@VirginAmerica Really missed a prime opportunity for Men Without Hats parody, there. https://t.co/mWpG7grEZP</td>\n",
       "      <td>neutral</td>\n",
       "    </tr>\n",
       "    <tr>\n",
       "      <th>8</th>\n",
       "      <td>@virginamerica Well, I didn't…but NOW I DO! :-D</td>\n",
       "      <td>positive</td>\n",
       "    </tr>\n",
       "    <tr>\n",
       "      <th>9</th>\n",
       "      <td>@VirginAmerica it was amazing, and arrived an hour early. You're too good to me.</td>\n",
       "      <td>positive</td>\n",
       "    </tr>\n",
       "    <tr>\n",
       "      <th>10</th>\n",
       "      <td>@VirginAmerica did you know that suicide is the second leading cause of death among teens 10-24</td>\n",
       "      <td>neutral</td>\n",
       "    </tr>\n",
       "    <tr>\n",
       "      <th>11</th>\n",
       "      <td>@VirginAmerica I &amp;lt;3 pretty graphics. so much better than minimal iconography. :D</td>\n",
       "      <td>positive</td>\n",
       "    </tr>\n",
       "    <tr>\n",
       "      <th>12</th>\n",
       "      <td>@VirginAmerica This is such a great deal! Already thinking about my 2nd trip to @Australia &amp;amp; I haven't even gone on my 1st trip yet! ;p</td>\n",
       "      <td>positive</td>\n",
       "    </tr>\n",
       "    <tr>\n",
       "      <th>13</th>\n",
       "      <td>@VirginAmerica @virginmedia I'm flying your #fabulous #Seductive skies again! U take all the #stress away from travel http://t.co/ahlXHhKiyn</td>\n",
       "      <td>positive</td>\n",
       "    </tr>\n",
       "    <tr>\n",
       "      <th>14</th>\n",
       "      <td>@VirginAmerica Thanks!</td>\n",
       "      <td>positive</td>\n",
       "    </tr>\n",
       "  </tbody>\n",
       "</table>\n",
       "</div>"
      ],
      "text/plain": [
       "                                                                                                                                            text  \\\n",
       "0                                                                                                            @VirginAmerica What @dhepburn said.   \n",
       "1                                                                       @VirginAmerica plus you've added commercials to the experience... tacky.   \n",
       "2                                                                        @VirginAmerica I didn't today... Must mean I need to take another trip!   \n",
       "3                 @VirginAmerica it's really aggressive to blast obnoxious \"entertainment\" in your guests' faces &amp; they have little recourse   \n",
       "4                                                                                        @VirginAmerica and it's a really big bad thing about it   \n",
       "5       @VirginAmerica seriously would pay $30 a flight for seats that didn't have this playing.\\nit's really the only bad thing about flying VA   \n",
       "6                                                                @VirginAmerica yes, nearly every time I fly VX this “ear worm” won’t go away :)   \n",
       "7                                   @VirginAmerica Really missed a prime opportunity for Men Without Hats parody, there. https://t.co/mWpG7grEZP   \n",
       "8                                                                                                @virginamerica Well, I didn't…but NOW I DO! :-D   \n",
       "9                                                               @VirginAmerica it was amazing, and arrived an hour early. You're too good to me.   \n",
       "10                                               @VirginAmerica did you know that suicide is the second leading cause of death among teens 10-24   \n",
       "11                                                           @VirginAmerica I &lt;3 pretty graphics. so much better than minimal iconography. :D   \n",
       "12   @VirginAmerica This is such a great deal! Already thinking about my 2nd trip to @Australia &amp; I haven't even gone on my 1st trip yet! ;p   \n",
       "13  @VirginAmerica @virginmedia I'm flying your #fabulous #Seductive skies again! U take all the #stress away from travel http://t.co/ahlXHhKiyn   \n",
       "14                                                                                                                        @VirginAmerica Thanks!   \n",
       "\n",
       "   airline_sentiment  \n",
       "0            neutral  \n",
       "1           positive  \n",
       "2            neutral  \n",
       "3           negative  \n",
       "4           negative  \n",
       "5           negative  \n",
       "6           positive  \n",
       "7            neutral  \n",
       "8           positive  \n",
       "9           positive  \n",
       "10           neutral  \n",
       "11          positive  \n",
       "12          positive  \n",
       "13          positive  \n",
       "14          positive  "
      ]
     },
     "execution_count": 2,
     "metadata": {},
     "output_type": "execute_result"
    }
   ],
   "source": [
    "pd.set_option(\"display.max_colwidth\", 200)\n",
    "simple_df = df.loc[:, [\"text\", \"airline_sentiment\"]]\n",
    "simple_df.head(15)"
   ]
  },
  {
   "cell_type": "markdown",
   "id": "07a217bb",
   "metadata": {},
   "source": [
    "Few informations about opinions length and sentiment:"
   ]
  },
  {
   "cell_type": "code",
   "execution_count": 3,
   "id": "33d3927a",
   "metadata": {},
   "outputs": [
    {
     "name": "stdout",
     "output_type": "stream",
     "text": [
      "Mean single Twitt's lengh: 103.82 characters\n"
     ]
    },
    {
     "data": {
      "image/png": "[encoded data removed]",
      "text/plain": [
       "<Figure size 504x504 with 1 Axes>"
      ]
     },
     "metadata": {
      "needs_background": "light"
     },
     "output_type": "display_data"
    },
    {
     "data": {
      "image/png": "[encoded data removed]",
      "text/plain": [
       "<Figure size 432x288 with 1 Axes>"
      ]
     },
     "metadata": {},
     "output_type": "display_data"
    }
   ],
   "source": [
    "import matplotlib.pyplot as plt\n",
    "\n",
    "print(\"Mean single Twitt's lengh: %.2f characters\" % df[\"text\"].str.len().mean())\n",
    "df[\"text\"].str.len().hist(figsize=(7, 7), bins=25)\n",
    "plt.xlabel(\"Twitt's length (characters)\", fontsize=15)\n",
    "plt.ylabel(\"Number of opinions with a given length\", fontsize=15)\n",
    "plt.title(\"Opinions's length histogram\", fontsize=25)\n",
    "plt.show()\n",
    "\n",
    "labels = ['negative', 'neutral', 'positive']\n",
    "negative = df[df.airline_sentiment == 'negative'].size\n",
    "neutral = df[df.airline_sentiment == 'neutral'].size\n",
    "positive = df[df.airline_sentiment == 'positive'].size\n",
    "explode = [0.05, 0.0, 0.0]\n",
    "sizes = [negative, neutral, positive]\n",
    "fig1, ax1 = plt.subplots()\n",
    "ax1.pie(sizes, labels=labels, explode=explode, autopct='%1.1f%%', shadow=True, startangle=90)\n",
    "ax1.axis('equal')\n",
    "plt.title(\"Percentage of opinions with a given sentiment\", fontsize=25)\n",
    "plt.show()"
   ]
  },
  {
   "cell_type": "markdown",
   "id": "53022d9f",
   "metadata": {},
   "source": [
    "## 3. Baseline model\n",
    "\n",
    "I usually start with a fairly simple model to know how my actions affect the outcome.\n",
    "\n",
    "### 3.1 Label encoding\n",
    "First we have to encode the labels into a form that the algorithm understands - numbers:"
   ]
  },
  {
   "cell_type": "code",
   "execution_count": 4,
   "id": "ff23db12",
   "metadata": {},
   "outputs": [
    {
     "name": "stdout",
     "output_type": "stream",
     "text": [
      "Number for neutral sentiment: 1\n",
      "Number for positive sentiment: 2\n",
      "Number for negative sentiment: 0\n"
     ]
    },
    {
     "data": {
      "text/html": [
       "<div>\n",
       "<style scoped>\n",
       "    .dataframe tbody tr th:only-of-type {\n",
       "        vertical-align: middle;\n",
       "    }\n",
       "\n",
       "    .dataframe tbody tr th {\n",
       "        vertical-align: top;\n",
       "    }\n",
       "\n",
       "    .dataframe thead th {\n",
       "        text-align: right;\n",
       "    }\n",
       "</style>\n",
       "<table border=\"1\" class=\"dataframe\">\n",
       "  <thead>\n",
       "    <tr style=\"text-align: right;\">\n",
       "      <th></th>\n",
       "      <th>text</th>\n",
       "      <th>airline_sentiment</th>\n",
       "      <th>sentiment_encoded</th>\n",
       "    </tr>\n",
       "  </thead>\n",
       "  <tbody>\n",
       "    <tr>\n",
       "      <th>0</th>\n",
       "      <td>@VirginAmerica What @dhepburn said.</td>\n",
       "      <td>neutral</td>\n",
       "      <td>1</td>\n",
       "    </tr>\n",
       "    <tr>\n",
       "      <th>1</th>\n",
       "      <td>@VirginAmerica plus you've added commercials to the experience... tacky.</td>\n",
       "      <td>positive</td>\n",
       "      <td>2</td>\n",
       "    </tr>\n",
       "    <tr>\n",
       "      <th>2</th>\n",
       "      <td>@VirginAmerica I didn't today... Must mean I need to take another trip!</td>\n",
       "      <td>neutral</td>\n",
       "      <td>1</td>\n",
       "    </tr>\n",
       "    <tr>\n",
       "      <th>3</th>\n",
       "      <td>@VirginAmerica it's really aggressive to blast obnoxious \"entertainment\" in your guests' faces &amp;amp; they have little recourse</td>\n",
       "      <td>negative</td>\n",
       "      <td>0</td>\n",
       "    </tr>\n",
       "    <tr>\n",
       "      <th>4</th>\n",
       "      <td>@VirginAmerica and it's a really big bad thing about it</td>\n",
       "      <td>negative</td>\n",
       "      <td>0</td>\n",
       "    </tr>\n",
       "  </tbody>\n",
       "</table>\n",
       "</div>"
      ],
      "text/plain": [
       "                                                                                                                             text  \\\n",
       "0                                                                                             @VirginAmerica What @dhepburn said.   \n",
       "1                                                        @VirginAmerica plus you've added commercials to the experience... tacky.   \n",
       "2                                                         @VirginAmerica I didn't today... Must mean I need to take another trip!   \n",
       "3  @VirginAmerica it's really aggressive to blast obnoxious \"entertainment\" in your guests' faces &amp; they have little recourse   \n",
       "4                                                                         @VirginAmerica and it's a really big bad thing about it   \n",
       "\n",
       "  airline_sentiment  sentiment_encoded  \n",
       "0           neutral                  1  \n",
       "1          positive                  2  \n",
       "2           neutral                  1  \n",
       "3          negative                  0  \n",
       "4          negative                  0  "
      ]
     },
     "execution_count": 4,
     "metadata": {},
     "output_type": "execute_result"
    }
   ],
   "source": [
    "from sklearn.preprocessing import LabelEncoder\n",
    "le = LabelEncoder()\n",
    "le.fit(simple_df[\"airline_sentiment\"])\n",
    "simple_df.loc[:,\"sentiment_encoded\"] = le.transform(simple_df[\"airline_sentiment\"])\n",
    "\n",
    "labels = simple_df[\"airline_sentiment\"].unique()\n",
    "labels_encoded = le.transform(labels)\n",
    "\n",
    "for idx in range(len(labels)):\n",
    "    print(\"Number for \" + labels[idx] + \" sentiment: \" + str(labels_encoded[idx]))\n",
    "\n",
    "simple_df.head()"
   ]
  },
  {
   "cell_type": "markdown",
   "id": "dd7acd3c",
   "metadata": {},
   "source": [
    "### 3.2 Split train and test data\n",
    "Second - I will choose some special test data to check model performance. The network will train (learn connections, rules etc.) **only** on 90% of data and next we'll check with some metrics how it perform (how well it guesses sentiment based on Twitt only) on the remaining 10%. Pay attention to the \"stratify\" parameter - it ensures that all the sentiment types will be in the same proportion in train and test set."
   ]
  },
  {
   "cell_type": "code",
   "execution_count": 5,
   "id": "0b1fba05",
   "metadata": {},
   "outputs": [],
   "source": [
    "from sklearn.model_selection import train_test_split\n",
    "from keras.utils import np_utils\n",
    "\n",
    "def split_to_tensors(column_name):\n",
    "    X_train, X_test, y_train, y_test = train_test_split(\n",
    "        simple_df[column_name], simple_df['sentiment_encoded'], test_size=0.1, random_state=42, stratify=simple_df['sentiment_encoded'])\n",
    "    y_train = np_utils.to_categorical(y_train)\n",
    "    y_test = np_utils.to_categorical(y_test)\n",
    "    \n",
    "    train_ds = tf.data.Dataset.from_tensor_slices((X_train, y_train))\n",
    "    test_ds = tf.data.Dataset.from_tensor_slices((X_test, y_test))\n",
    "    return train_ds, test_ds"
   ]
  },
  {
   "cell_type": "markdown",
   "id": "1c4b93b2",
   "metadata": {},
   "source": [
    "### 3.3 Changing the collection type, splitting into batches\n",
    "\n",
    "TensorFlow has an internal type for datasets - tf.data.Dataset. Just as [documentation](https://www.tensorflow.org/api_docs/python/tf/data/Dataset) mentions - \"Iteration happens in a streaming fashion, so the full dataset does not need to fit into memory.\". For a dataset of this size, we must keep in mind the limited GPU memory. Next - I'll combine consecutive elements into batches of the size I'll specify. TensorFlow will feed neural network in this number of rows at a time. This topic is a bit complicated for this article - you can find more information [here (\"What is a batch?\")](https://stackoverflow.com/a/41176694) and [here (tips for batch size)](https://stats.stackexchange.com/questions/164876/what-is-the-trade-off-between-batch-size-and-number-of-iterations-to-train-a-neu/236393#236393)."
   ]
  },
  {
   "cell_type": "code",
   "execution_count": 6,
   "id": "27c8a64b",
   "metadata": {},
   "outputs": [
    {
     "name": "stdout",
     "output_type": "stream",
     "text": [
      "Number of batches in train_ds: 103\n",
      "Number of batches in test_ds: 12\n"
     ]
    }
   ],
   "source": [
    "import tensorflow as tf\n",
    "import warnings\n",
    "import os\n",
    "warnings.filterwarnings(\"ignore\")\n",
    "os.environ['TF_CPP_MIN_LOG_LEVEL'] = '1'\n",
    "\n",
    "train_ds, test_ds = split_to_tensors(\"text\")\n",
    "\n",
    "BATCH_SIZE = 128\n",
    "\n",
    "train_ds = train_ds.batch(BATCH_SIZE)\n",
    "test_ds = test_ds.batch(BATCH_SIZE)\n",
    "\n",
    "print(f\"Number of batches in train_ds: {train_ds.cardinality()}\")\n",
    "print(f\"Number of batches in test_ds: {test_ds.cardinality()}\")"
   ]
  },
  {
   "cell_type": "markdown",
   "id": "6cdd5fbc",
   "metadata": {},
   "source": [
    "### 3.4 Encoding Twitts\n",
    "\n",
    "In one of the previous parts I changed labels to a version that the algorithm understands. Now we need to do something similar with Twitts. There are some more sophisticated tools, but for now I will choose the standard one - TextVectorization. I encourage you to check out more informations about this processing: [documentation](https://www.tensorflow.org/api_docs/python/tf/keras/layers/TextVectorization)."
   ]
  },
  {
   "cell_type": "code",
   "execution_count": 7,
   "id": "ee8f3b5d",
   "metadata": {},
   "outputs": [],
   "source": [
    "from tensorflow.keras.layers import TextVectorization\n",
    "import string\n",
    "import re\n",
    "\n",
    "def get_adapted_vectorizer(train_ds, max_features=20000, embedding_dim=128, sequence_length=500, standardize=\"lower_and_strip_punctuation\"):\n",
    "    vectorize_layer = TextVectorization(\n",
    "        max_tokens=max_features,\n",
    "        output_mode=\"int\",\n",
    "        output_sequence_length=sequence_length,\n",
    "        standardize=standardize\n",
    "    )\n",
    "    \n",
    "    text_ds = train_ds.map(lambda x, y: x)\n",
    "\n",
    "    #Train Vectorizer\n",
    "    vectorize_layer.adapt(text_ds)\n",
    "    return vectorize_layer\n",
    "\n",
    "\n",
    "vectorize_layer = get_adapted_vectorizer(train_ds, standardize=None)\n",
    "\n",
    "def vectorize_text(text, label):\n",
    "    text = tf.expand_dims(text, -1)\n",
    "    return vectorize_layer(text), label\n",
    "\n",
    "# Vectorize the data.\n",
    "vectorized_train_ds = train_ds.map(vectorize_text)\n",
    "vectorized_test_ds = test_ds.map(vectorize_text)"
   ]
  },
  {
   "cell_type": "markdown",
   "id": "f01bfea8",
   "metadata": {},
   "source": [
    "TensorFlow allows us to do a few tricks for [better performance](https://www.tensorflow.org/guide/data_performance).\n",
    "\n",
    "With \"prefetch\" method input pipeline [is reading data for next step](https://www.tensorflow.org/guide/data_performance#prefetching) during the current one.\n",
    "\n",
    "The \"cache\" method [can cache a dataset](https://www.tensorflow.org/guide/data_performance#caching) in memory or on local storage - so some operations (for example - opening and data reading) will not be performed at each epoch."
   ]
  },
  {
   "cell_type": "code",
   "execution_count": 8,
   "id": "19ce0b0e",
   "metadata": {},
   "outputs": [],
   "source": [
    "vectorized_train_ds = vectorized_train_ds.cache().prefetch(buffer_size=10)\n",
    "vectorized_test_ds = vectorized_test_ds.cache().prefetch(buffer_size=10)"
   ]
  },
  {
   "cell_type": "markdown",
   "id": "18846287",
   "metadata": {},
   "source": [
    "### 3.5 A brief note on used metrics\n",
    "\n",
    "This problem is an example of \"imbalanced dataset\". It means that one of class (\"negative\" in this article) has significantly more rows than others. You can get 62.7% acurracy... just by assigning the same prediction to all examples. There are more reliable metrics for imbalanced dataset - one of them is [ROC AUC](https://en.wikipedia.org/wiki/Receiver_operating_characteristic). Unfortunately this dataset is not strongly imbalanced and metric ROC_AUC is little cumbersome for multiclass classification. It will be my main metric, but for deeper understaing model will print also standard accuracy (percentage of correct predictions). For example - in [Credit Card Fraud Detection](https://www.kaggle.com/datasets/mlg-ulb/creditcardfraud) dataset one class has more than 90% of all records. "
   ]
  },
  {
   "cell_type": "markdown",
   "id": "b306143e",
   "metadata": {},
   "source": [
    "### 3.6 Defining the network\n",
    "\n",
    "In this paper, CNN will be used only for the baseline model, so I will not describe it too much. At this point, the relevant information is that convolution layers are popular for deep learning, but they are not specialized for sequential data (as full sentences/posts or time series data). By the way - CNNs work well for computer vision."
   ]
  },
  {
   "cell_type": "code",
   "execution_count": 9,
   "id": "2c886b3b",
   "metadata": {},
   "outputs": [],
   "source": [
    "from tensorflow.keras import layers\n",
    "import keras\n",
    "from keras import callbacks\n",
    "\n",
    "# This layer takes all encoded Twitts\n",
    "inputs = tf.keras.Input(shape=(None,), dtype=\"int64\")\n",
    "\n",
    "max_features = 20000\n",
    "embedding_dim = 128\n",
    "x = layers.Embedding(max_features, embedding_dim)(inputs)\n",
    "\n",
    "# Two convolution layers\n",
    "x = layers.Conv1D(64, 7)(x)\n",
    "x = layers.GlobalMaxPooling1D()(x)\n",
    "\n",
    "# softmax activation function allows to make multiclass predictions\n",
    "predictions = layers.Dense(3, activation=\"softmax\", name=\"predictions\")(x)\n",
    "\n",
    "model = tf.keras.Model(inputs, predictions)\n",
    "\n",
    "model.compile(loss=\"categorical_crossentropy\", optimizer=\"adam\", metrics=[keras.metrics.AUC(name='auc'), \"accuracy\"])"
   ]
  },
  {
   "cell_type": "markdown",
   "id": "a9217f22",
   "metadata": {},
   "source": [
    "I will use [EarlyStopping](https://keras.io/api/callbacks/early_stopping/) - it stops training under defined circumstances. In my case - 5 epochs without val_auc improvement. Epoch is [\"one pass over the entire dataset\"](https://keras.io/getting_started/faq/#what-do-sample-batch-and-epoch-mean). In these networks, that's enough.\n",
    "\n",
    "I still need to determine the maximum number of epochs. My tests showed that - for now - 20 is sufficient."
   ]
  },
  {
   "cell_type": "code",
   "execution_count": 10,
   "id": "34b811cf",
   "metadata": {},
   "outputs": [],
   "source": [
    "epochs = 20\n",
    "\n",
    "earlystopping5 = callbacks.EarlyStopping(monitor=\"val_auc\",\n",
    "                                        mode=\"max\", patience=5,\n",
    "                                        restore_best_weights=True)"
   ]
  },
  {
   "cell_type": "markdown",
   "id": "662691bf",
   "metadata": {},
   "source": [
    "This code snippet cointains helper function for printing max ROC_AUC, accuracy of predictions and learning curves (train and test performance by the epochs)."
   ]
  },
  {
   "cell_type": "code",
   "execution_count": 11,
   "id": "0b6a7b1a",
   "metadata": {},
   "outputs": [],
   "source": [
    "def print_results(hist, accuracy_curve=False):\n",
    "    print(\"Highest val_auc: \", str(max(hist.history['val_auc'])))\n",
    "    print(\"Highest val_accuracy: \", str(max(hist.history['val_accuracy'])))\n",
    "    plt.title('Learning Curves')\n",
    "    plt.xlabel('Epoch')\n",
    "    plt.ylabel('ROC AUC')\n",
    "    plt.plot(history.history['auc'], label='train')\n",
    "    plt.plot(history.history['val_auc'], label='test')\n",
    "    plt.legend()\n",
    "    plt.show()\n",
    "    if accuracy_curve==True:\n",
    "        plt.title('Learning Curves')\n",
    "        plt.xlabel('Epoch')\n",
    "        plt.ylabel('accuracy')\n",
    "        plt.plot(history.history['accuracy'], label='train')\n",
    "        plt.plot(history.history['val_accuracy'], label='test')\n",
    "        plt.legend()\n",
    "        plt.show()"
   ]
  },
  {
   "cell_type": "markdown",
   "id": "f2ee39cc",
   "metadata": {},
   "source": [
    "Finally - I'll train the model and print results."
   ]
  },
  {
   "cell_type": "code",
   "execution_count": 12,
   "id": "4bcac825",
   "metadata": {},
   "outputs": [
    {
     "name": "stdout",
     "output_type": "stream",
     "text": [
      "Highest val_auc:  0.9279338717460632\n",
      "Highest val_accuracy:  0.8025956153869629\n"
     ]
    },
    {
     "data": {
      "image/png": "[encoded data removed]",
      "text/plain": [
       "<Figure size 432x288 with 1 Axes>"
      ]
     },
     "metadata": {
      "needs_background": "light"
     },
     "output_type": "display_data"
    }
   ],
   "source": [
    "history = model.fit(vectorized_train_ds, validation_data=vectorized_test_ds, epochs=epochs, callbacks=[earlystopping5], batch_size=BATCH_SIZE, verbose=0)\n",
    "print_results(history)"
   ]
  },
  {
   "cell_type": "markdown",
   "id": "dc9f72ae",
   "metadata": {},
   "source": [
    "The result is better than random values or setting all predictions as \"negative\" (62.7% accuracy), but it's possible to obtain model with higher performance."
   ]
  },
  {
   "cell_type": "markdown",
   "id": "4e15cee7",
   "metadata": {},
   "source": [
    "## 4. LSTM model\n",
    "\n",
    "I will use [LSTM](https://keras.io/api/layers/recurrent_layers/lstm/) (Long Short-Term Memory) layers in the main model. It's a type of RNN (recurrent neural networks). RNN allows to analyze sequential and time series data, because \"connections between nodes can create a cycle, allowing output from some nodes to affect subsequent input to the same nodes\" [source](https://en.wikipedia.org/wiki/Recurrent_neural_network). This type of network can memorize with \"feedback loop\" some information from previous steps - in this dataset it can use context from the beginning of Twitt during processing its end.\n",
    "\n",
    "One of RNN's problems is vanishing gradient - [gradients used to compute the weight update may get very close to zero, preventing the network from learning new weights](https://machinelearningmastery.com/an-introduction-to-recurrent-neural-networks-and-the-math-that-powers-them/). LSTM is trying to curb this problem.\n",
    "\n",
    "Again - these topics are much to complex for this article (it would be better to write separate articles about these...), but you could catch the general idea from [this video](https://www.youtube.com/watch?v=AsNTP8Kwu80). It's the easiest (and the funniest ;) ) explanation I have seen.\n",
    "\n",
    "Finally I will use Bidirectional LSTM. It adds second LSTM layer which process the data in reverse order. Finally it combines output from both layers. BiLSTMs are used primarily in NLP problems (such as this one). Check [this article](https://www.baeldung.com/cs/bidirectional-vs-unidirectional-lstm) with comparison of unidirectional and bidirectional LSTM."
   ]
  },
  {
   "cell_type": "code",
   "execution_count": 13,
   "id": "af7e4eb4",
   "metadata": {},
   "outputs": [],
   "source": [
    "def two_layers_lstm(max_features=20000, embedding_dim=128, lstm1_units=64, dropout1=0.0, lstm2_units=64, dropout2=0.0):\n",
    "    inputs = tf.keras.Input(shape=(None,), dtype=\"int64\")\n",
    "\n",
    "    x = layers.Embedding(max_features, embedding_dim)(inputs)\n",
    "\n",
    "    x = layers.Bidirectional(layers.LSTM(lstm1_units, return_sequences=True, dropout=dropout1))(x)\n",
    "    x = layers.Bidirectional(layers.LSTM(lstm2_units, dropout=dropout2))(x)\n",
    "\n",
    "    predictions = layers.Dense(3, activation=\"softmax\", name=\"predictions\")(x)\n",
    "\n",
    "    model = tf.keras.Model(inputs, predictions)\n",
    "    return model"
   ]
  },
  {
   "cell_type": "code",
   "execution_count": 14,
   "id": "b5d90bbc",
   "metadata": {},
   "outputs": [
    {
     "name": "stdout",
     "output_type": "stream",
     "text": [
      "Highest val_auc:  0.9310108423233032\n",
      "Highest val_accuracy:  0.8019125461578369\n"
     ]
    },
    {
     "data": {
      "image/png": "[encoded data removed]",
      "text/plain": [
       "<Figure size 432x288 with 1 Axes>"
      ]
     },
     "metadata": {
      "needs_background": "light"
     },
     "output_type": "display_data"
    }
   ],
   "source": [
    "model = two_layers_lstm()\n",
    "\n",
    "model.compile(loss=\"categorical_crossentropy\", optimizer=\"adam\", metrics=[keras.metrics.AUC(name='auc'), \"accuracy\"])\n",
    "\n",
    "history = model.fit(vectorized_train_ds, validation_data=vectorized_test_ds, epochs=epochs, callbacks=[earlystopping5], batch_size=BATCH_SIZE, verbose=0)\n",
    "print_results(history)"
   ]
  },
  {
   "cell_type": "markdown",
   "id": "7fc83669",
   "metadata": {},
   "source": [
    "For now it doesn't look like a better model, but after few tweaks I'll get much higher performance."
   ]
  },
  {
   "cell_type": "markdown",
   "id": "cf8b7e3d",
   "metadata": {},
   "source": [
    "### 5. Lowercase and strip punctuation\n",
    "Usually words and their lowercase has the same or similar meaning. Of course it's not 100% true...\n",
    "1. \"general\" is an adjective, but \"General\" is a military person\n",
    "2. words with all leters uppercase could have additional emotional significance\n",
    "\n",
    "It's best to check several types of preprocessing, but in a lot of papers we can find general rule to use lowercase in small datasets and try to avoid lowercase in bigger datasets.\n",
    "\n",
    "An analogous rule applies to punctuation. On the one hand punctuation could add some meaning, but on the other - it's better to not treat \"word\" and \"word.\" as completely different units. Sometimes it can be a good idea to leave only some punctuation marks - for example exclamation points, question marks or emojis."
   ]
  },
  {
   "cell_type": "code",
   "execution_count": 15,
   "id": "ba10c49e",
   "metadata": {},
   "outputs": [
    {
     "name": "stdout",
     "output_type": "stream",
     "text": [
      "Highest val_auc:  0.9366888403892517\n",
      "Highest val_accuracy:  0.8142076730728149\n"
     ]
    },
    {
     "data": {
      "image/png": "[encoded data removed]",
      "text/plain": [
       "<Figure size 432x288 with 1 Axes>"
      ]
     },
     "metadata": {
      "needs_background": "light"
     },
     "output_type": "display_data"
    }
   ],
   "source": [
    "vectorize_layer = get_adapted_vectorizer(train_ds)\n",
    "\n",
    "def vectorize_text(text, label):\n",
    "    text = tf.expand_dims(text, -1)\n",
    "    return vectorize_layer(text), label\n",
    "\n",
    "# Vectorize the data.\n",
    "vectorized_train_ds = train_ds.map(vectorize_text)\n",
    "vectorized_test_ds = test_ds.map(vectorize_text)\n",
    "\n",
    "vectorized_train_ds = vectorized_train_ds.cache().prefetch(buffer_size=10)\n",
    "vectorized_test_ds = vectorized_test_ds.cache().prefetch(buffer_size=10)\n",
    "\n",
    "from tensorflow.keras import layers\n",
    "import keras\n",
    "\n",
    "model = two_layers_lstm()\n",
    "model.compile(loss=\"categorical_crossentropy\", optimizer=\"adam\", metrics=[keras.metrics.AUC(name='auc'), \"accuracy\"])\n",
    "\n",
    "history = model.fit(vectorized_train_ds, validation_data=vectorized_test_ds, epochs=epochs, callbacks=[earlystopping5], batch_size=BATCH_SIZE, verbose=0)\n",
    "print_results(history)"
   ]
  },
  {
   "cell_type": "markdown",
   "id": "e11cbc1b",
   "metadata": {},
   "source": [
    "## 6. \"Stop words\"\n",
    "\n",
    "\"Stop words\" are words that should not affect the understanding of the sentence. There are few popular tools for removing them. For example [nltk.corpus.stopwords](https://www.nltk.org/api/nltk.corpus.html) contains a [list](https://gist.github.com/sebleier/554280) with words like \"which\", \"it\", \"that\". Unfortunately, the use of this tool worsened the result of my model, but i found another method. The autors of [this research](http://www.lrec-conf.org/proceedings/lrec2014/pdf/292_Paper.pdf) proposed technique \"singleton words\". It involves removing words that occur only once in the entire dataset. These words are completely useless for analyzing the other Twitts.\n",
    "\n",
    "By the way - this research confirms my observations about arbitrary stop words lists."
   ]
  },
  {
   "cell_type": "code",
   "execution_count": 16,
   "id": "3904e8ec",
   "metadata": {},
   "outputs": [
    {
     "name": "stdout",
     "output_type": "stream",
     "text": [
      "Highest val_auc:  0.9376546144485474\n",
      "Highest val_accuracy:  0.8176229596138\n"
     ]
    },
    {
     "data": {
      "image/png": "[encoded data removed]",
      "text/plain": [
       "<Figure size 432x288 with 1 Axes>"
      ]
     },
     "metadata": {
      "needs_background": "light"
     },
     "output_type": "display_data"
    }
   ],
   "source": [
    "import nltk\n",
    "\n",
    "def count_word_occurrences(word_nested_list):\n",
    "    counts = dict()\n",
    "    for word_list in word_nested_list:\n",
    "        for word in word_list:\n",
    "            if word in counts:\n",
    "                counts[word] += 1\n",
    "            else:\n",
    "                counts[word] = 1\n",
    "    return counts\n",
    "\n",
    "counts = count_word_occurrences(simple_df['text'].apply(nltk.word_tokenize))\n",
    "\n",
    "def prepare_singleton_list(counts):\n",
    "    return list({ word:count for (word,count) in counts.items() if count == 1}.keys())\n",
    "\n",
    "singletons = prepare_singleton_list(counts)\n",
    "simple_df.loc[:,'stop_text'] = simple_df['text'].apply(lambda x: ' '.join([word for word in x.split() if word not in singletons]))\n",
    "\n",
    "train_ds, test_ds = split_to_tensors(\"stop_text\")\n",
    "\n",
    "# BATCH_SIZE = 128\n",
    "\n",
    "train_ds = train_ds.batch(BATCH_SIZE)\n",
    "test_ds = test_ds.batch(BATCH_SIZE)\n",
    "\n",
    "vectorize_layer = get_adapted_vectorizer(train_ds)\n",
    "\n",
    "def vectorize_text(text, label):\n",
    "    text = tf.expand_dims(text, -1)\n",
    "    return vectorize_layer(text), label\n",
    "\n",
    "# Vectorize the data.\n",
    "vectorized_train_ds = train_ds.map(vectorize_text)\n",
    "vectorized_test_ds = test_ds.map(vectorize_text)\n",
    "\n",
    "vectorized_train_ds = vectorized_train_ds.cache().prefetch(buffer_size=10)\n",
    "vectorized_test_ds = vectorized_test_ds.cache().prefetch(buffer_size=10)\n",
    "\n",
    "from tensorflow.keras import layers\n",
    "import keras\n",
    "\n",
    "model = two_layers_lstm()\n",
    "model.compile(loss=\"categorical_crossentropy\", optimizer=\"adam\", metrics=[keras.metrics.AUC(name='auc'), \"accuracy\"])\n",
    "\n",
    "history = model.fit(vectorized_train_ds, validation_data=vectorized_test_ds, epochs=epochs, callbacks=[earlystopping5], batch_size=BATCH_SIZE, verbose=0)\n",
    "print_results(history)"
   ]
  },
  {
   "cell_type": "markdown",
   "id": "dea216dc",
   "metadata": {},
   "source": [
    "# 7. Clean text\n",
    "Some twitts elements have the same meaning, but a different form. For example:\n",
    "- \"we're\" and \"we are\"\n",
    "- \"can't\" and \"cannot\"\n",
    "- \"e-mail\" and \"email\"\n",
    "\n",
    "The model should have better performance by treating them as the same units. For algorithm, it's easier to understand a smaller number of distinct words.\n",
    "\n",
    "Additional note: you cain improve performance of string substitution by compiling regex before the loop: [example](https://stackoverflow.com/a/33872252). I will not do that, because in dataset with this size the time saved would not be much and it would make the code less readable."
   ]
  },
  {
   "cell_type": "code",
   "execution_count": 17,
   "id": "2a65ed4a",
   "metadata": {},
   "outputs": [
    {
     "name": "stdout",
     "output_type": "stream",
     "text": [
      "Highest val_auc:  0.9386195540428162\n",
      "Highest val_accuracy:  0.8107923269271851\n"
     ]
    },
    {
     "data": {
      "image/png": "[encoded data removed]",
      "text/plain": [
       "<Figure size 432x288 with 1 Axes>"
      ]
     },
     "metadata": {
      "needs_background": "light"
     },
     "output_type": "display_data"
    }
   ],
   "source": [
    "def clean_text(text):\n",
    "    text = re.sub(r\"what's\", \"what is \", text) # \"what's\" -> \"what is\"\n",
    "    text = re.sub(r\"What's\", \"What is \", text)\n",
    "    text = re.sub(r\"\\'ve\", \" have \", text)  # \"You've\" -> \"You have\"\n",
    "    text = re.sub(r\"can't\", \"cannot \", text)\n",
    "    text = re.sub(r\"Can't\", \"Cannot \", text)\n",
    "    text = re.sub(r\"i'm\", \"i am \", text)\n",
    "    text = re.sub(r\"I'm\", \"I am \", text)\n",
    "    text = re.sub(r\"\\'re\", \" are \", text) # \"'re\" -> \" are\"\n",
    "    text = re.sub(r\"\\'d\", \" would \", text)\n",
    "    text = re.sub(r\"\\'ll\", \" will \", text)  # \"I'll\" -> 'I will'\n",
    "    text = re.sub(r\"e - mail\", \"email\", text)\n",
    "    text = re.sub(r\"e-mail\", \"email\", text)\n",
    "    text = re.sub(r\"hrs\", \"hours\", text)\n",
    "    return text\n",
    "\n",
    "simple_df[\"text_ct\"] = simple_df[\"text\"].apply(lambda text: clean_text(text))\n",
    "\n",
    "# def count_word_occurrences(word_nested_list):\n",
    "#     counts = dict()\n",
    "#     for word_list in word_nested_list:\n",
    "#         for word in word_list:\n",
    "#             if word in counts:\n",
    "#                 counts[word] += 1\n",
    "#             else:\n",
    "#                 counts[word] = 1\n",
    "#     return counts\n",
    "\n",
    "counts = count_word_occurrences(simple_df['text_ct'].apply(nltk.word_tokenize))\n",
    "\n",
    "# def prepare_singleton_list(counts):\n",
    "#     return list({ word:count for (word,count) in counts.items() if count == 1}.keys())\n",
    "\n",
    "singletons = prepare_singleton_list(counts)\n",
    "simple_df.loc[:,'stop_text_ct'] = simple_df['text_ct'].apply(lambda x: ' '.join([word for word in x.split() if word not in singletons]))\n",
    "\n",
    "train_ds, test_ds = split_to_tensors(\"stop_text_ct\")\n",
    "\n",
    "# BATCH_SIZE = 128\n",
    "\n",
    "train_ds = train_ds.batch(BATCH_SIZE)\n",
    "test_ds = test_ds.batch(BATCH_SIZE)\n",
    "\n",
    "vectorize_layer = get_adapted_vectorizer(train_ds)\n",
    "\n",
    "def vectorize_text(text, label):\n",
    "    text = tf.expand_dims(text, -1)\n",
    "    return vectorize_layer(text), label\n",
    "\n",
    "# Vectorize the data.\n",
    "vectorized_train_ds = train_ds.map(vectorize_text)\n",
    "vectorized_test_ds = test_ds.map(vectorize_text)\n",
    "\n",
    "vectorized_train_ds = vectorized_train_ds.cache().prefetch(buffer_size=10)\n",
    "vectorized_test_ds = vectorized_test_ds.cache().prefetch(buffer_size=10)\n",
    "\n",
    "from tensorflow.keras import layers\n",
    "import keras\n",
    "\n",
    "model = two_layers_lstm()\n",
    "model.compile(loss=\"categorical_crossentropy\", optimizer=\"adam\", metrics=[keras.metrics.AUC(name='auc'), \"accuracy\"])\n",
    "\n",
    "history = model.fit(vectorized_train_ds, validation_data=vectorized_test_ds, epochs=epochs, callbacks=[earlystopping5], batch_size=BATCH_SIZE, verbose=0)\n",
    "print_results(history)"
   ]
  },
  {
   "cell_type": "markdown",
   "id": "578d2f37",
   "metadata": {},
   "source": [
    "Single execution is not reliable, but after more - this version usualy gives slight improvement in accuracy and roc_auc."
   ]
  },
  {
   "cell_type": "markdown",
   "id": "f34f05a0",
   "metadata": {},
   "source": [
    "## 8. Tune hyperparameters\n",
    "Finally - it is difficult to select the values of some hyperparameters other than by tuning. I'll just add some proposed hepermarameter's values and ranges and then feed them to Optuna - framework-agnostic tuning tool.\n",
    "\n",
    "### 8.1 Dropout\n",
    "In previous models, the highest result was obtained very quickly. In the next epochs, we encountered [overfitting](https://en.wikipedia.org/wiki/Overfitting) - performance for training data was very high, but for test data it started to decrease. There are some techniques for this problem. One of them is the [dropout layer](https://keras.io/api/layers/regularization_layers/dropout/). A certain rate value should be specified. Then, with a frequency of this rate, it randomly sets layer inputs to 0 and raises the values of other inputs by 1/(1-rate). I will try to use dropout in both LSTM layers."
   ]
  },
  {
   "cell_type": "code",
   "execution_count": 18,
   "id": "fba1fada",
   "metadata": {},
   "outputs": [
    {
     "name": "stderr",
     "output_type": "stream",
     "text": [
      "\u001b[32m[I 2022-10-20 10:33:52,230]\u001b[0m A new study created in memory with name: no-name-e06fb9b7-c9dd-4c2d-8be6-d41cd8e24301\u001b[0m\n"
     ]
    },
    {
     "name": "stdout",
     "output_type": "stream",
     "text": [
      "Finished trials: 1, 2, 3\n",
      "Best trial:\n",
      "  ROC AUC: 0.9375484585762024\n",
      "  Params: \n",
      "    batch_size_power: 7\n",
      "    max_features: 20000\n",
      "    embedding_dim_power: 7\n",
      "    sequence_length: 500\n",
      "    lstm1_units_power: 6\n",
      "    dropout1: 0.0\n",
      "    lstm2_units_power: 6\n",
      "    dropout2: 0.0\n"
     ]
    }
   ],
   "source": [
    "import optuna\n",
    "\n",
    "trials_number = 3 # TODO: set more trials\n",
    "\n",
    "def objective(trial):\n",
    "    train_ds, test_ds = split_to_tensors(\"stop_text_ct\")\n",
    "    batch_size_power = trial.suggest_int(\"batch_size_power\", 4, 8)\n",
    "    BATCH_SIZE = 2 ** batch_size_power\n",
    "\n",
    "    train_ds = train_ds.batch(BATCH_SIZE)\n",
    "    test_ds = test_ds.batch(BATCH_SIZE)\n",
    "\n",
    "    max_features = trial.suggest_int(\"max_features\", 10000, 30000)\n",
    "    embedding_dim_power = trial.suggest_int(\"embedding_dim_power\", 5, 7)\n",
    "    embedding_dim = 2 ** embedding_dim_power\n",
    "    sequence_length = trial.suggest_int(\"sequence_length\", 250, 1000)\n",
    "\n",
    "    vectorize_layer = get_adapted_vectorizer(train_ds, max_features=max_features, embedding_dim=embedding_dim, sequence_length=sequence_length)\n",
    "\n",
    "    def vectorize_text(text, label):\n",
    "        text = tf.expand_dims(text, -1)\n",
    "        return vectorize_layer(text), label\n",
    "\n",
    "    # Vectorize the data.\n",
    "    vectorized_train_ds = train_ds.map(vectorize_text)\n",
    "    vectorized_test_ds = test_ds.map(vectorize_text)\n",
    "\n",
    "    vectorized_train_ds = vectorized_train_ds.cache().prefetch(buffer_size=10)\n",
    "    vectorized_test_ds = vectorized_test_ds.cache().prefetch(buffer_size=10)\n",
    "\n",
    "    from tensorflow.keras import layers\n",
    "    import keras\n",
    "\n",
    "    lstm1_units_power = trial.suggest_int(\"lstm1_units_power\", 5, 7)\n",
    "    dropout1 = trial.suggest_uniform('dropout1', 0.0, 0.6)\n",
    "    lstm2_units_power = trial.suggest_int(\"lstm2_units_power\", 5, 7)\n",
    "    dropout2 = trial.suggest_uniform('dropout2', 0.0, 0.6)\n",
    "\n",
    "    model = two_layers_lstm(max_features=max_features, embedding_dim=embedding_dim, lstm1_units=2 ** lstm1_units_power, dropout1=dropout1, lstm2_units=2 ** lstm2_units_power, dropout2=dropout2)\n",
    "    model.compile(loss=\"categorical_crossentropy\", optimizer=\"adam\", metrics=[keras.metrics.AUC(name='auc'), \"accuracy\"])\n",
    "\n",
    "    # usually this number will not be reached\n",
    "    epochs = 50\n",
    "\n",
    "    earlystopping10 = callbacks.EarlyStopping(monitor=\"val_auc\",\n",
    "                                            mode=\"max\", patience=10,\n",
    "                                            restore_best_weights=True)\n",
    "    history = model.fit(vectorized_train_ds, validation_data=vectorized_test_ds, epochs=epochs, callbacks=[earlystopping10], batch_size=BATCH_SIZE, verbose=0)\n",
    "    if trial.number == 0:\n",
    "        print(\"Finished trials: 1\", end=\"\")\n",
    "    else:\n",
    "        print(\", \" + str(trial.number+1), end=\"\")\n",
    "    return max(history.history['val_auc'])\n",
    "\n",
    "study = optuna.create_study(direction=\"maximize\")\n",
    "\n",
    "study.enqueue_trial({\n",
    "        \"batch_size_power\": 7,\n",
    "        \"max_features\": 20000,\n",
    "        \"embedding_dim_power\": 7,\n",
    "        \"sequence_length\": 500,\n",
    "        \"lstm1_units_power\": 6,\n",
    "        \"dropout1\": 0.0,\n",
    "        \"lstm2_units_power\": 6,\n",
    "        \"dropout2\": 0.0\n",
    "    })\n",
    "\n",
    "optuna.logging.set_verbosity(optuna.logging.WARNING)\n",
    "study.optimize(objective, n_trials=trials_number)\n",
    "\n",
    "print(\"\\nBest trial:\")\n",
    "trial = study.best_trial\n",
    "\n",
    "print(\"  ROC AUC: {}\".format(trial.value))\n",
    "\n",
    "print(\"  Params: \")\n",
    "for key, value in trial.params.items():\n",
    "    print(\"    {}: {}\".format(key, value))"
   ]
  },
  {
   "cell_type": "markdown",
   "id": "0b55a124",
   "metadata": {},
   "source": [
    "Finally - let's load best model and visualize its performance "
   ]
  },
  {
   "cell_type": "code",
   "execution_count": 19,
   "id": "d629c5f3",
   "metadata": {},
   "outputs": [],
   "source": [
    "def load_best_model_history(params):\n",
    "    train_ds, test_ds = split_to_tensors(\"stop_text_ct\")\n",
    "    BATCH_SIZE = 2 ** params[\"batch_size_power\"]\n",
    "\n",
    "    train_ds = train_ds.batch(BATCH_SIZE)\n",
    "    test_ds = test_ds.batch(BATCH_SIZE)\n",
    "\n",
    "    max_features = params[\"max_features\"]\n",
    "    embedding_dim = 2 ** params[\"embedding_dim_power\"]\n",
    "    sequence_length = params[\"sequence_length\"]\n",
    "\n",
    "    vectorize_layer = get_adapted_vectorizer(train_ds, max_features=max_features, embedding_dim=embedding_dim, sequence_length=sequence_length)\n",
    "\n",
    "    def vectorize_text(text, label):\n",
    "        text = tf.expand_dims(text, -1)\n",
    "        return vectorize_layer(text), label\n",
    "\n",
    "    # Vectorize the data.\n",
    "    vectorized_train_ds = train_ds.map(vectorize_text)\n",
    "    vectorized_test_ds = test_ds.map(vectorize_text)\n",
    "\n",
    "    vectorized_train_ds = vectorized_train_ds.cache().prefetch(buffer_size=10)\n",
    "    vectorized_test_ds = vectorized_test_ds.cache().prefetch(buffer_size=10)\n",
    "\n",
    "    from tensorflow.keras import layers\n",
    "    import keras\n",
    "\n",
    "    lstm1_units_power = params[\"lstm1_units_power\"]\n",
    "    dropout1 = params['dropout1']\n",
    "    lstm2_units_power = params[\"lstm2_units_power\"]\n",
    "    dropout2 = params['dropout2']\n",
    "\n",
    "    model = two_layers_lstm(max_features=max_features, embedding_dim=embedding_dim, lstm1_units=2 ** lstm1_units_power, dropout1=dropout1, lstm2_units=2 ** lstm2_units_power, dropout2=dropout2)\n",
    "    model.compile(loss=\"categorical_crossentropy\", optimizer=\"adam\", metrics=[keras.metrics.AUC(name='auc'), \"accuracy\"])\n",
    "\n",
    "    # usually this number will not be reached\n",
    "    epochs = 50\n",
    "\n",
    "    earlystopping10 = callbacks.EarlyStopping(monitor=\"val_auc\",\n",
    "                                            mode=\"max\", patience=10,\n",
    "                                            restore_best_weights=True)\n",
    "    return model.fit(vectorized_train_ds, validation_data=vectorized_test_ds, epochs=epochs, callbacks=[earlystopping10], batch_size=BATCH_SIZE, verbose=0)\n",
    "\n",
    "hist = load_best_model_history(trial.params)"
   ]
  },
  {
   "cell_type": "code",
   "execution_count": 20,
   "id": "4b97a7d3",
   "metadata": {},
   "outputs": [
    {
     "name": "stdout",
     "output_type": "stream",
     "text": [
      "Highest val_auc:  0.9386195540428162\n",
      "Highest val_accuracy:  0.8107923269271851\n"
     ]
    },
    {
     "data": {
      "image/png": "[encoded data removed]",
      "text/plain": [
       "<Figure size 432x288 with 1 Axes>"
      ]
     },
     "metadata": {
      "needs_background": "light"
     },
     "output_type": "display_data"
    },
    {
     "data": {
      "image/png": "[encoded data removed]",
      "text/plain": [
       "<Figure size 432x288 with 1 Axes>"
      ]
     },
     "metadata": {
      "needs_background": "light"
     },
     "output_type": "display_data"
    }
   ],
   "source": [
    "print_results(history, accuracy_curve=True)"
   ]
  },
  {
   "cell_type": "markdown",
   "id": "860d51a6",
   "metadata": {},
   "source": [
    "## 9. Not working strategies\n",
    "\n",
    "I tried several other - popular on the Internet (including kaggle) - strategies, but they did not improve the result. Few of them:\n",
    "TODO: fill in results\n",
    "- stemming - x AUC, y accuracy\n",
    "- lemmatization - x AUC, y accuracy\n",
    "- standard stopwords - x AUC, y accuracy\n",
    "- single dense 256 units layer after LSTM layers - x AUC, y accuracy\n",
    "- word2vec trained on this dataset - x AUC, y accuracy\n",
    "- word2vec trained on bigger dataset (~0.5gb of social media posts) - x AUC, y accuracy"
   ]
  },
  {
   "cell_type": "markdown",
   "id": "c447c723",
   "metadata": {},
   "source": [
    "## TODO:\n",
    "- more tunable params?\n",
    "- more text informations for non-technical persons?"
   ]
  }
 ],
 "metadata": {
  "kernelspec": {
   "display_name": "Python 3 (ipykernel)",
   "language": "python",
   "name": "python3"
  },
  "language_info": {
   "codemirror_mode": {
    "name": "ipython",
    "version": 3
   },
   "file_extension": ".py",
   "mimetype": "text/x-python",
   "name": "python",
   "nbconvert_exporter": "python",
   "pygments_lexer": "ipython3",
   "version": "3.8.10"
  }
 },
 "nbformat": 4,
 "nbformat_minor": 5
}
